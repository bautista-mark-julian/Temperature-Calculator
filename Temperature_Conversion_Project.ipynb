{
  "nbformat": 4,
  "nbformat_minor": 0,
  "metadata": {
    "colab": {
      "provenance": [],
      "authorship_tag": "ABX9TyMm4vI6K3spw944YFpwcKSB",
      "include_colab_link": true
    },
    "kernelspec": {
      "name": "python3",
      "display_name": "Python 3"
    },
    "language_info": {
      "name": "python"
    }
  },
  "cells": [
    {
      "cell_type": "markdown",
      "metadata": {
        "id": "view-in-github",
        "colab_type": "text"
      },
      "source": [
        "<a href=\"https://colab.research.google.com/github/bautista-mark-julian/Temperature-Calculator/blob/main/Temperature_Conversion_Project.ipynb\" target=\"_parent\"><img src=\"https://colab.research.google.com/assets/colab-badge.svg\" alt=\"Open In Colab\"/></a>"
      ]
    },
    {
      "cell_type": "code",
      "execution_count": null,
      "metadata": {
        "colab": {
          "base_uri": "https://localhost:8080/"
        },
        "id": "iooP2MBzTD6c",
        "outputId": "aa293a8c-1fd5-45b1-a572-2b74229a4463"
      },
      "outputs": [
        {
          "output_type": "stream",
          "name": "stdout",
          "text": [
            "Enter the input temperature value:\n",
            "40\n",
            "Enter the input temperature scale (C, F, K or R):\n",
            "C\n",
            "Enter the output temperature scale (C, F, K or R):\n",
            "R\n",
            "40.0 C = 563.6700000000001 R\n",
            "Enter q to quit, or any other key to continue:\n",
            "a\n",
            "Enter the input temperature value:\n",
            "40\n",
            "Enter the input temperature scale (C, F, K or R):\n",
            "F\n",
            "Enter the output temperature scale (C, F, K or R):\n",
            "R\n",
            "40.0 F = 499.67 R\n",
            "Enter q to quit, or any other key to continue:\n"
          ]
        }
      ],
      "source": [
        "Temperature = {\n",
        "    'Celsius' : 'C',\n",
        "    'Fahrenheit' : 'F',\n",
        "    'Kelvin' : 'K',\n",
        "    'Rankine' : 'R',\n",
        "}\n",
        "def temp_convert(value, input_scale, output_scale):\n",
        "  if input_scale == 'C':\n",
        "        if output_scale == 'F':\n",
        "            return value * 1.8 + 32\n",
        "        elif output_scale == 'K':\n",
        "            return value + 273.15\n",
        "        elif output_scale == 'R':\n",
        "            return value * 1.8 + 491.67\n",
        "        else:\n",
        "            return value\n",
        "  elif input_scale == 'F':\n",
        "        if output_scale == 'C':\n",
        "            return (value - 32) / 1.8\n",
        "        elif output_scale == 'K':\n",
        "            return (value + 459.67) * 5 / 9\n",
        "        elif output_scale == 'R':\n",
        "            return value + 459.67\n",
        "        else:\n",
        "            return value\n",
        "  elif input_scale == 'K':\n",
        "        if output_scale == 'C':\n",
        "            return value - 273.15\n",
        "        elif output_scale == 'F':\n",
        "            return value * 9 / 5 - 459.67\n",
        "        elif output_scale == 'R':\n",
        "            return value * 9/5\n",
        "        else:\n",
        "            return value\n",
        "  elif input_scale == 'R':\n",
        "       if output_scale == 'C':\n",
        "            return (value - 491.67) * 5 / 9\n",
        "       elif output_scale == 'F':\n",
        "            return value - 459.67\n",
        "       elif output_scale == 'K':\n",
        "            return value * 5/9\n",
        "\n",
        "\n",
        "\n",
        "while True:\n",
        "    print('Enter the input temperature value:')\n",
        "    value = float(input())\n",
        "    print('Enter the input temperature scale (C, F, K or R):')\n",
        "    input_scale = input().upper()\n",
        "    print('Enter the output temperature scale (C, F, K or R):')\n",
        "    output_scale = input().upper()\n",
        "\n",
        "    result = temp_convert(value, input_scale, output_scale)\n",
        "    print(f'{value} {input_scale} = {result} {output_scale}')\n",
        "\n",
        "    print('Enter q to quit, or any other key to continue:')\n",
        "    choice = input()\n",
        "    if choice.lower() == 'q':\n",
        "        break"
      ]
    }
  ]
}